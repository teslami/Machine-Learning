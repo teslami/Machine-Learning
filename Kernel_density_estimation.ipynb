{
 "cells": [
  {
   "cell_type": "markdown",
   "metadata": {},
   "source": [
    "* Kernel Density Estimation (KDE) is a method for estimating the Probability Density Fucntion using a set of fininte samples\n",
    "* It is close to the concept of histogram, but it converges better to the true density of the data and generates smooth curve vs discrete histogram\n",
    "* KDE gets use of a kernel function and a bandwidth parameter to estimate the density at each point according to the following equation:\n",
    "* $\\hat{f}_h(x) = \\frac{1}{n h} \\sum_{i=1}^{n} K\\left( \\frac{x - x_i}{h} \\right)$\n",
    "* Parameter h is called the bandwith and controls the smoothness of the final calculated curve"
   ]
  },
  {
   "cell_type": "markdown",
   "metadata": {},
   "source": []
  }
 ],
 "metadata": {
  "language_info": {
   "name": "python"
  }
 },
 "nbformat": 4,
 "nbformat_minor": 2
}
